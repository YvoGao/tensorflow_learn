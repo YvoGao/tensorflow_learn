{
 "cells": [
  {
   "cell_type": "markdown",
   "metadata": {},
   "source": [
    "# 使用dropout正则化解决拟合问题"
   ]
  },
  {
   "cell_type": "markdown",
   "metadata": {},
   "source": [
    "（1）导入需要的包和数据集"
   ]
  },
  {
   "cell_type": "code",
   "execution_count": 1,
   "metadata": {},
   "outputs": [],
   "source": [
    "from sklearn.datasets import load_boston\n",
    "from sklearn.model_selection import train_test_split\n",
    "import numpy  as np\n",
    "import matplotlib.pyplot as plt\n",
    "import torch\n",
    "import torch.nn as nn"
   ]
  },
  {
   "cell_type": "markdown",
   "metadata": {},
   "source": [
    "（2）获得数据对其标准化"
   ]
  },
  {
   "cell_type": "code",
   "execution_count": 2,
   "metadata": {},
   "outputs": [],
   "source": [
    "# 载入数据\n",
    "boston = load_boston()\n",
    "X,y   = (boston.data, boston.target)\n",
    "dim = X.shape[1]\n",
    "X_train, X_test, y_train, y_test = train_test_split(X, y, test_size=0.2, random_state=0)\n",
    "num_train = X_train.shape[0]\n",
    "#对训练数据进行标准化\n",
    "mean=X_train.mean(axis=0)\n",
    "std=X_train.std(axis=0)"
   ]
  },
  {
   "cell_type": "code",
   "execution_count": 3,
   "metadata": {},
   "outputs": [],
   "source": [
    "X_train-=mean\n",
    "X_train/=std\n",
    "\n",
    "X_test-=mean\n",
    "X_test/=std"
   ]
  },
  {
   "cell_type": "code",
   "execution_count": 4,
   "metadata": {},
   "outputs": [
    {
     "data": {
      "text/plain": [
       "tensor([[-0.3726, -0.4996, -0.7049,  ..., -0.4846,  0.3717, -0.4110],\n",
       "        [-0.3971, -0.4996, -0.0449,  ...,  0.3365,  0.2050, -0.3877],\n",
       "        [-0.4027,  0.7712, -0.8868,  ..., -0.8496,  0.3666, -0.1819],\n",
       "        ...,\n",
       "        [-0.3981, -0.4996, -0.1594,  ..., -0.3022,  0.4034, -0.3301],\n",
       "        [-0.3884, -0.4996, -0.6033,  ..., -0.2565,  0.3834,  0.8359],\n",
       "        [-0.3995, -0.4996, -1.0128,  ..., -0.8496,  0.4304,  0.2721]])"
      ]
     },
     "execution_count": 4,
     "metadata": {},
     "output_type": "execute_result"
    }
   ],
   "source": [
    "# 转成tensor\n",
    "train_data=torch.from_numpy(X_train)\n",
    "# 查看数据\n",
    "dtype = torch.FloatTensor\n",
    "train_data.type(dtype)"
   ]
  },
  {
   "cell_type": "code",
   "execution_count": 5,
   "metadata": {},
   "outputs": [],
   "source": [
    "#分别获得训练集和测试集\n",
    "device = torch.device(\"cuda:0\" if torch.cuda.is_available() else \"cpu\")\n",
    "train_data=torch.from_numpy(X_train).float()\n",
    "train_target=torch.from_numpy(y_train).float()\n",
    "test_data=torch.from_numpy(X_test).float()\n",
    "test_target=torch.from_numpy(y_test).float()"
   ]
  },
  {
   "cell_type": "markdown",
   "metadata": {},
   "source": [
    "（3）构建模型"
   ]
  },
  {
   "cell_type": "code",
   "execution_count": 6,
   "metadata": {},
   "outputs": [],
   "source": [
    "# 构建模型\n",
    "# 普通\n",
    "net1_overfitting = torch.nn.Sequential(\n",
    "    torch.nn.Linear(13, 16),\n",
    "    torch.nn.ReLU(),\n",
    "    torch.nn.Linear(16, 32),\n",
    "    torch.nn.ReLU(),\n",
    "    torch.nn.Linear(32, 1),\n",
    ")\n",
    "\n",
    "# 正则化\n",
    "net1_dropped = torch.nn.Sequential(\n",
    "    torch.nn.Linear(13, 16),\n",
    "    torch.nn.Dropout(0.5),  # drop 50% of the neuron\n",
    "    torch.nn.ReLU(),\n",
    "    torch.nn.Linear(16, 32),\n",
    "    torch.nn.Dropout(0.5),  # drop 50% of the neuron\n",
    "    torch.nn.ReLU(),\n",
    "    torch.nn.Linear(32, 1),\n",
    ")"
   ]
  },
  {
   "cell_type": "markdown",
   "metadata": {},
   "source": [
    "（4）定义loss值选择迭代器"
   ]
  },
  {
   "cell_type": "code",
   "execution_count": 7,
   "metadata": {},
   "outputs": [],
   "source": [
    "loss_func = torch.nn.MSELoss()\n",
    "optimizer_ofit = torch.optim.Adam(net1_overfitting.parameters(), lr=0.01)\n",
    "optimizer_drop = torch.optim.Adam(net1_dropped.parameters(), lr=0.01)"
   ]
  },
  {
   "cell_type": "markdown",
   "metadata": {},
   "source": [
    "（5）训练可视化数据"
   ]
  },
  {
   "cell_type": "code",
   "execution_count": 8,
   "metadata": {},
   "outputs": [
    {
     "name": "stderr",
     "output_type": "stream",
     "text": [
      "d:\\studyapp\\anaconda\\envs\\gluon\\lib\\site-packages\\torch\\nn\\modules\\loss.py:432: UserWarning: Using a target size (torch.Size([404])) that is different to the input size (torch.Size([404, 1])). This will likely lead to incorrect results due to broadcasting. Please ensure they have the same size.\n",
      "  return F.mse_loss(input, target, reduction=self.reduction)\n",
      "d:\\studyapp\\anaconda\\envs\\gluon\\lib\\site-packages\\torch\\nn\\modules\\loss.py:432: UserWarning: Using a target size (torch.Size([102])) that is different to the input size (torch.Size([102, 1])). This will likely lead to incorrect results due to broadcasting. Please ensure they have the same size.\n",
      "  return F.mse_loss(input, target, reduction=self.reduction)\n"
     ]
    }
   ],
   "source": [
    "from tensorboardX import SummaryWriter\n",
    "writer = SummaryWriter(log_dir='logs')\n",
    "for epoch in range(100):\n",
    "    # 调用训练\n",
    "    net1_overfitting.train()\n",
    "    net1_dropped.train()\n",
    "    # 获得预测值\n",
    "    pred_ofit=  net1_overfitting(train_data)\n",
    "    pred_drop = net1_dropped(train_data)    \n",
    "    # 计算loss\n",
    "    loss_ofit = loss_func(pred_ofit, train_target)\n",
    "    loss_drop = loss_func(pred_drop, train_target)\n",
    "    #计算梯度\n",
    "    optimizer_ofit.zero_grad()\n",
    "    optimizer_drop.zero_grad()\n",
    "    loss_ofit.backward()\n",
    "    loss_drop.backward()\n",
    "    optimizer_ofit.step()\n",
    "    optimizer_drop.step()\n",
    "    # 保存loss的数据与epoch数值\n",
    "    writer.add_scalars('train_group_loss',{'origloss':loss_ofit.item(),'droploss':loss_drop.item()}, epoch)\n",
    "\n",
    "    #进行预测\n",
    "    net1_overfitting.eval()\n",
    "    net1_dropped.eval() \n",
    "    test_pred_orig = net1_overfitting(test_data)\n",
    "    test_pred_drop = net1_dropped(test_data)\n",
    "    orig_loss=loss_func(test_pred_orig, test_target)\n",
    "    drop_loss=loss_func(test_pred_drop, test_target)\n",
    "    writer.add_scalars('test_group_loss',{'origloss':orig_loss.item(),'droploss':drop_loss.item()}, epoch)\n"
   ]
  },
  {
   "cell_type": "markdown",
   "metadata": {},
   "source": [
    "# 批量正则化"
   ]
  },
  {
   "cell_type": "code",
   "execution_count": 1,
   "metadata": {},
   "outputs": [],
   "source": [
    "from sklearn.datasets import load_boston\n",
    "from sklearn.model_selection import train_test_split\n",
    "import numpy  as np\n",
    "import matplotlib.pyplot as plt\n",
    "import torch\n",
    "import torch.nn as nn"
   ]
  },
  {
   "cell_type": "code",
   "execution_count": 2,
   "metadata": {},
   "outputs": [],
   "source": [
    "# 载入数据\n",
    "boston = load_boston()\n",
    "X,y   = (boston.data, boston.target)\n",
    "dim = X.shape[1]\n",
    "X_train, X_test, y_train, y_test = train_test_split(X, y, test_size=0.2, random_state=0)\n",
    "num_train = X_train.shape[0]\n",
    "#对训练数据进行标准化\n",
    "mean=X_train.mean(axis=0)\n",
    "std=X_train.std(axis=0)"
   ]
  },
  {
   "cell_type": "code",
   "execution_count": 3,
   "metadata": {},
   "outputs": [],
   "source": [
    "X_train-=mean\n",
    "X_train/=std\n",
    "\n",
    "X_test-=mean\n",
    "X_test/=std"
   ]
  },
  {
   "cell_type": "code",
   "execution_count": 4,
   "metadata": {},
   "outputs": [],
   "source": [
    "#分别获得训练集和测试集\n",
    "device = torch.device(\"cuda:0\" if torch.cuda.is_available() else \"cpu\")\n",
    "train_data=torch.from_numpy(X_train).float()\n",
    "train_target=torch.from_numpy(y_train).float()\n",
    "test_data=torch.from_numpy(X_test).float()\n",
    "test_target=torch.from_numpy(y_test).float()"
   ]
  },
  {
   "cell_type": "code",
   "execution_count": 6,
   "metadata": {},
   "outputs": [],
   "source": [
    "# 普通\n",
    "net1_overfitting = torch.nn.Sequential(\n",
    "    torch.nn.Linear(13, 16),\n",
    "    torch.nn.ReLU(),\n",
    "    torch.nn.Linear(16, 32),\n",
    "    torch.nn.ReLU(),\n",
    "    torch.nn.Linear(32, 1),\n",
    ")\n",
    "# 标准化\n",
    "net1_nb = torch.nn.Sequential(\n",
    "    torch.nn.Linear(13, 8),\n",
    "    nn.BatchNorm1d(num_features=8),\n",
    "    torch.nn.ReLU(),\n",
    "    torch.nn.Linear(8, 4),\n",
    "    nn.BatchNorm1d(num_features=4),  \n",
    "    torch.nn.ReLU(),\n",
    "    torch.nn.Linear(4, 1),\n",
    ")\n",
    "loss_func = torch.nn.MSELoss()\n",
    "optimizer_ofit = torch.optim.Adam(net1_overfitting.parameters(), lr=0.01)\n",
    "optimizer_nb = torch.optim.Adam(net1_nb.parameters(), lr=0.01)"
   ]
  },
  {
   "cell_type": "code",
   "execution_count": 7,
   "metadata": {},
   "outputs": [
    {
     "name": "stderr",
     "output_type": "stream",
     "text": [
      "d:\\studyapp\\anaconda\\envs\\gluon\\lib\\site-packages\\torch\\nn\\modules\\loss.py:432: UserWarning: Using a target size (torch.Size([404])) that is different to the input size (torch.Size([404, 1])). This will likely lead to incorrect results due to broadcasting. Please ensure they have the same size.\n",
      "  return F.mse_loss(input, target, reduction=self.reduction)\n",
      "d:\\studyapp\\anaconda\\envs\\gluon\\lib\\site-packages\\torch\\nn\\modules\\loss.py:432: UserWarning: Using a target size (torch.Size([102])) that is different to the input size (torch.Size([102, 1])). This will likely lead to incorrect results due to broadcasting. Please ensure they have the same size.\n",
      "  return F.mse_loss(input, target, reduction=self.reduction)\n"
     ]
    }
   ],
   "source": [
    "from tensorboardX import SummaryWriter\n",
    "writer = SummaryWriter(log_dir='log')\n",
    "for epoch in range(200):\n",
    "    net1_overfitting.train()\n",
    "    net1_nb.train()\n",
    "    \n",
    "    pred_ofit = net1_overfitting(train_data)\n",
    "    pred_nb = net1_nb(train_data)\n",
    "    \n",
    "    loss_ofit = loss_func(pred_ofit, train_target)\n",
    "    loss_nb = loss_func(pred_nb, train_target)\n",
    "    \n",
    "    optimizer_ofit.zero_grad()\n",
    "    optimizer_nb.zero_grad()\n",
    "    \n",
    "    loss_ofit.backward()\n",
    "    loss_nb.backward()\n",
    "    \n",
    "    optimizer_ofit.step()\n",
    "    optimizer_nb.step()\n",
    "    net1_overfitting.eval()\n",
    "    net1_nb.eval() \n",
    "    test_pred_orig = net1_overfitting(test_data)\n",
    "    test_pred_nb = net1_nb(test_data)\n",
    "    orig_loss=loss_func(test_pred_orig, test_target)\n",
    "    nb_loss=loss_func(test_pred_nb, test_target)\n",
    "    # 保存loss的数据与epoch数值\n",
    "    #writer.add_scalar('train_loss', loss_ofit, t)\n",
    "    writer.add_scalars('train_group_loss',{'orig_loss':loss_ofit.item(),'nb_loss':loss_nb.item(),}, epoch)\n",
    "    writer.add_scalars('test_nb_loss',{'orig_loss':orig_loss.item(),'nb_loss':nb_loss.item()}, epoch)"
   ]
  }
 ],
 "metadata": {
  "kernelspec": {
   "display_name": "Python 3",
   "language": "python",
   "name": "python3"
  },
  "language_info": {
   "codemirror_mode": {
    "name": "ipython",
    "version": 3
   },
   "file_extension": ".py",
   "mimetype": "text/x-python",
   "name": "python",
   "nbconvert_exporter": "python",
   "pygments_lexer": "ipython3",
   "version": "3.6.2"
  }
 },
 "nbformat": 4,
 "nbformat_minor": 2
}
