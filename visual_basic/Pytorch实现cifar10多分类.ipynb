{
 "cells": [
  {
   "cell_type": "markdown",
   "metadata": {},
   "source": [
    "# Pytorch实现cifar10多分类"
   ]
  },
  {
   "cell_type": "markdown",
   "metadata": {},
   "source": [
    "# 1 准备数据"
   ]
  },
  {
   "cell_type": "markdown",
   "metadata": {},
   "source": [
    "(1)导入模块"
   ]
  },
  {
   "cell_type": "code",
   "execution_count": 1,
   "metadata": {},
   "outputs": [],
   "source": [
    "import torch\n",
    "import torchvision\n",
    "import torchvision.transforms as transforms"
   ]
  },
  {
   "cell_type": "markdown",
   "metadata": {},
   "source": [
    "（2）下载数据集"
   ]
  },
  {
   "cell_type": "code",
   "execution_count": 2,
   "metadata": {},
   "outputs": [
    {
     "name": "stdout",
     "output_type": "stream",
     "text": [
      "Files already downloaded and verified\n"
     ]
    }
   ],
   "source": [
    "transform = transforms.Compose(\n",
    "    [transforms.ToTensor(),\n",
    "     transforms.Normalize((0.5, 0.5, 0.5), (0.5, 0.5, 0.5))])\n",
    "\n",
    "trainset = torchvision.datasets.CIFAR10(root='./data', train=True,\n",
    "                                        download=True, transform=transform)\n",
    "trainloader = torch.utils.data.DataLoader(trainset, batch_size=4,\n",
    "                                          shuffle=True, num_workers=2)\n",
    "\n",
    "testset = torchvision.datasets.CIFAR10(root='./data', train=False,\n",
    "                                       download=False, transform=transform)\n",
    "testloader = torch.utils.data.DataLoader(testset, batch_size=4,\n",
    "                                         shuffle=False, num_workers=2)\n",
    "\n",
    "classes = ('plane', 'car', 'bird', 'cat',\n",
    "           'deer', 'dog', 'frog', 'horse', 'ship', 'truck')"
   ]
  },
  {
   "cell_type": "markdown",
   "metadata": {},
   "source": [
    "（3）展示数据集"
   ]
  },
  {
   "cell_type": "code",
   "execution_count": 3,
   "metadata": {},
   "outputs": [
    {
     "data": {
      "image/png": "[encoded data removed]",
      "text/plain": [
       "<Figure size 432x288 with 1 Axes>"
      ]
     },
     "metadata": {
      "needs_background": "light"
     },
     "output_type": "display_data"
    },
    {
     "name": "stdout",
     "output_type": "stream",
     "text": [
      "horse  frog   car   dog\n"
     ]
    }
   ],
   "source": [
    "import matplotlib.pyplot as plt\n",
    "import numpy as np\n",
    "%matplotlib inline\n",
    "\n",
    "# 显示图像\n",
    "\n",
    "def imshow(img):\n",
    "    img = img / 2 + 0.5     # unnormalize\n",
    "    npimg = img.numpy()\n",
    "    plt.imshow(np.transpose(npimg, (1, 2, 0)))\n",
    "    plt.show()\n",
    "\n",
    "\n",
    "# 随机获取部分训练数据\n",
    "dataiter = iter(trainloader)\n",
    "images, labels = dataiter.next()\n",
    "\n",
    "# 显示图像\n",
    "imshow(torchvision.utils.make_grid(images))\n",
    "# 打印标签\n",
    "print(' '.join('%5s' % classes[labels[j]] for j in range(4)))"
   ]
  },
  {
   "cell_type": "markdown",
   "metadata": {},
   "source": [
    "# 2 构建网络"
   ]
  },
  {
   "cell_type": "markdown",
   "metadata": {},
   "source": [
    "（1）搭建CNN网络"
   ]
  },
  {
   "cell_type": "code",
   "execution_count": 5,
   "metadata": {},
   "outputs": [],
   "source": [
    "import torch.nn as nn\n",
    "import torch.nn.functional as F\n",
    "device = torch.device(\"cuda:0\" if torch.cuda.is_available() else \"cpu\")\n",
    "\n",
    "\n",
    "class CNNNet(nn.Module):\n",
    "    def __init__(self):\n",
    "        super(CNNNet,self).__init__()\n",
    "        self.conv1 = nn.Conv2d(in_channels=3,out_channels=16,kernel_size=5,stride=1)\n",
    "        self.pool1 = nn.MaxPool2d(kernel_size=2,stride=2)\n",
    "        self.conv2 = nn.Conv2d(in_channels=16,out_channels=36,kernel_size=3,stride=1)\n",
    "        self.pool2 = nn.MaxPool2d(kernel_size=2, stride=2)\n",
    "        self.fc1 = nn.Linear(1296,128)\n",
    "        self.fc2 = nn.Linear(128,10)      \n",
    "\n",
    "    def forward(self,x):\n",
    "        x=self.pool1(F.relu(self.conv1(x)))\n",
    "        x=self.pool2(F.relu(self.conv2(x)))\n",
    "        #print(x.shape)\n",
    "        x=x.view(-1,36*6*6)\n",
    "        x=F.relu(self.fc2(F.relu(self.fc1(x))))\n",
    "        return x\n",
    "\n",
    "net = CNNNet()\n",
    "net=net.to(device)"
   ]
  },
  {
   "cell_type": "code",
   "execution_count": 6,
   "metadata": {
    "scrolled": true
   },
   "outputs": [
    {
     "name": "stdout",
     "output_type": "stream",
     "text": [
      "net have 173742 paramerters in total\n"
     ]
    }
   ],
   "source": [
    "print(\"net have {} paramerters in total\".format(sum(x.numel() for x in net.parameters())))"
   ]
  },
  {
   "cell_type": "markdown",
   "metadata": {},
   "source": [
    "（2）设置loss，lr，迭代器"
   ]
  },
  {
   "cell_type": "code",
   "execution_count": 7,
   "metadata": {},
   "outputs": [],
   "source": [
    "import torch.optim as optim\n",
    "LR=0.001\n",
    "\n",
    "criterion = nn.CrossEntropyLoss()\n",
    "optimizer = optim.SGD(net.parameters(), lr=0.001, momentum=0.9)"
   ]
  },
  {
   "cell_type": "code",
   "execution_count": 8,
   "metadata": {},
   "outputs": [
    {
     "name": "stdout",
     "output_type": "stream",
     "text": [
      "CNNNet(\n",
      "  (conv1): Conv2d(3, 16, kernel_size=(5, 5), stride=(1, 1))\n",
      "  (pool1): MaxPool2d(kernel_size=2, stride=2, padding=0, dilation=1, ceil_mode=False)\n",
      "  (conv2): Conv2d(16, 36, kernel_size=(3, 3), stride=(1, 1))\n",
      "  (pool2): MaxPool2d(kernel_size=2, stride=2, padding=0, dilation=1, ceil_mode=False)\n",
      "  (fc1): Linear(in_features=1296, out_features=128, bias=True)\n",
      "  (fc2): Linear(in_features=128, out_features=10, bias=True)\n",
      ")\n"
     ]
    }
   ],
   "source": [
    "## 展示网络结构\n",
    "print(net)"
   ]
  },
  {
   "cell_type": "code",
   "execution_count": 9,
   "metadata": {},
   "outputs": [
    {
     "data": {
      "text/plain": [
       "Sequential(\n",
       "  (0): Conv2d(3, 16, kernel_size=(5, 5), stride=(1, 1))\n",
       "  (1): MaxPool2d(kernel_size=2, stride=2, padding=0, dilation=1, ceil_mode=False)\n",
       "  (2): Conv2d(16, 36, kernel_size=(3, 3), stride=(1, 1))\n",
       "  (3): MaxPool2d(kernel_size=2, stride=2, padding=0, dilation=1, ceil_mode=False)\n",
       ")"
      ]
     },
     "execution_count": 9,
     "metadata": {},
     "output_type": "execute_result"
    }
   ],
   "source": [
    "#取模型中的前四层\n",
    "nn.Sequential(*list(net.children())[:4])"
   ]
  },
  {
   "cell_type": "markdown",
   "metadata": {
    "collapsed": true
   },
   "source": [
    "# 3 训练模型"
   ]
  },
  {
   "cell_type": "code",
   "execution_count": 10,
   "metadata": {},
   "outputs": [
    {
     "name": "stdout",
     "output_type": "stream",
     "text": [
      "[1,  2000] loss: 2.197\n",
      "[1,  4000] loss: 1.906\n",
      "[1,  6000] loss: 1.550\n",
      "[1,  8000] loss: 1.432\n",
      "[1, 10000] loss: 1.376\n",
      "[1, 12000] loss: 1.293\n",
      "[2,  2000] loss: 1.194\n",
      "[2,  4000] loss: 1.171\n",
      "[2,  6000] loss: 1.144\n",
      "[2,  8000] loss: 1.097\n",
      "[2, 10000] loss: 1.095\n",
      "[2, 12000] loss: 1.060\n",
      "[3,  2000] loss: 0.951\n",
      "[3,  4000] loss: 0.956\n",
      "[3,  6000] loss: 0.955\n",
      "[3,  8000] loss: 0.929\n",
      "[3, 10000] loss: 0.925\n",
      "[3, 12000] loss: 0.939\n",
      "[4,  2000] loss: 0.803\n",
      "[4,  4000] loss: 0.816\n",
      "[4,  6000] loss: 0.834\n",
      "[4,  8000] loss: 0.802\n",
      "[4, 10000] loss: 0.841\n",
      "[4, 12000] loss: 0.825\n",
      "[5,  2000] loss: 0.685\n",
      "[5,  4000] loss: 0.707\n",
      "[5,  6000] loss: 0.709\n",
      "[5,  8000] loss: 0.725\n",
      "[5, 10000] loss: 0.742\n",
      "[5, 12000] loss: 0.760\n",
      "[6,  2000] loss: 0.587\n",
      "[6,  4000] loss: 0.613\n",
      "[6,  6000] loss: 0.629\n",
      "[6,  8000] loss: 0.655\n",
      "[6, 10000] loss: 0.656\n",
      "[6, 12000] loss: 0.664\n",
      "[7,  2000] loss: 0.494\n",
      "[7,  4000] loss: 0.525\n",
      "[7,  6000] loss: 0.571\n",
      "[7,  8000] loss: 0.590\n",
      "[7, 10000] loss: 0.589\n",
      "[7, 12000] loss: 0.580\n",
      "[8,  2000] loss: 0.424\n",
      "[8,  4000] loss: 0.449\n",
      "[8,  6000] loss: 0.483\n",
      "[8,  8000] loss: 0.521\n",
      "[8, 10000] loss: 0.518\n",
      "[8, 12000] loss: 0.533\n",
      "[9,  2000] loss: 0.343\n",
      "[9,  4000] loss: 0.403\n",
      "[9,  6000] loss: 0.429\n",
      "[9,  8000] loss: 0.458\n",
      "[9, 10000] loss: 0.461\n",
      "[9, 12000] loss: 0.480\n",
      "[10,  2000] loss: 0.303\n",
      "[10,  4000] loss: 0.331\n",
      "[10,  6000] loss: 0.348\n",
      "[10,  8000] loss: 0.391\n",
      "[10, 10000] loss: 0.436\n",
      "[10, 12000] loss: 0.444\n",
      "Finished Training\n"
     ]
    }
   ],
   "source": [
    "from tensorboardX import SummaryWriter\n",
    "writer = SummaryWriter(log_dir='logs',comment='CNN')\n",
    "\n",
    "for epoch in range(10):  \n",
    "\n",
    "    running_loss = 0.0\n",
    "    for i, data in enumerate(trainloader, 0):\n",
    "        # 获取训练数据\n",
    "        inputs, labels = data\n",
    "        inputs, labels = inputs.to(device), labels.to(device)\n",
    "\n",
    "        # 权重参数梯度清零\n",
    "        optimizer.zero_grad()\n",
    "\n",
    "        # 正向及反向传播\n",
    "        outputs = net(inputs)\n",
    "        loss = criterion(outputs, labels)\n",
    "        loss.backward()\n",
    "        optimizer.step()\n",
    "\n",
    "        # 显示损失值\n",
    "        running_loss += loss.item()\n",
    "        if i % 2000 == 1999:    # print every 2000 mini-batches\n",
    "            print('[%d, %5d] loss: %.3f' %(epoch + 1, i + 1, running_loss / 2000))\n",
    "            writer.add_scalar('train_loss', running_loss / 2000, epoch+1)\n",
    "            running_loss = 0.0\n",
    "\n",
    "print('Finished Training')"
   ]
  },
  {
   "cell_type": "code",
   "execution_count": 11,
   "metadata": {},
   "outputs": [
    {
     "data": {
      "image/png": "[encoded data removed]",
      "text/plain": [
       "<Figure size 432x288 with 1 Axes>"
      ]
     },
     "metadata": {
      "needs_background": "light"
     },
     "output_type": "display_data"
    },
    {
     "name": "stdout",
     "output_type": "stream",
     "text": [
      "GroundTruth:    cat  ship  ship plane\n"
     ]
    }
   ],
   "source": [
    "# 验证集\n",
    "dataiter = iter(testloader)\n",
    "images, labels = dataiter.next()\n",
    "#images, labels = images.to(device), labels.to(device)\n",
    "# print images\n",
    "imshow(torchvision.utils.make_grid(images))\n",
    "print('GroundTruth: ', ' '.join('%5s' % classes[labels[j]] for j in range(4)))"
   ]
  },
  {
   "cell_type": "code",
   "execution_count": 12,
   "metadata": {},
   "outputs": [
    {
     "name": "stdout",
     "output_type": "stream",
     "text": [
      "Predicted:    dog  ship  ship plane\n"
     ]
    }
   ],
   "source": [
    "images, labels = images.to(device), labels.to(device)\n",
    "outputs = net(images)\n",
    "_, predicted = torch.max(outputs, 1)\n",
    "\n",
    "print('Predicted: ', ' '.join('%5s' % classes[predicted[j]]for j in range(4)))"
   ]
  },
  {
   "cell_type": "markdown",
   "metadata": {},
   "source": [
    "# 4 测试模型"
   ]
  },
  {
   "cell_type": "markdown",
   "metadata": {},
   "source": [
    "（1）计算模型正确率"
   ]
  },
  {
   "cell_type": "code",
   "execution_count": 13,
   "metadata": {
    "scrolled": true
   },
   "outputs": [
    {
     "name": "stdout",
     "output_type": "stream",
     "text": [
      "Accuracy of the network on the 10000 test images: 67 %\n"
     ]
    }
   ],
   "source": [
    "# 查看准确率\n",
    "correct = 0\n",
    "total = 0\n",
    "with torch.no_grad():\n",
    "    for data in testloader:\n",
    "        images, labels = data\n",
    "        images, labels = images.to(device), labels.to(device)\n",
    "        outputs = net(images)\n",
    "        _, predicted = torch.max(outputs.data, 1)\n",
    "        total += labels.size(0)\n",
    "        correct += (predicted == labels).sum().item()\n",
    "\n",
    "print('Accuracy of the network on the 10000 test images: %d %%' % (\n",
    "    100 * correct / total))"
   ]
  },
  {
   "cell_type": "markdown",
   "metadata": {},
   "source": [
    "（2）计算每一个目标类的准确率"
   ]
  },
  {
   "cell_type": "code",
   "execution_count": 17,
   "metadata": {},
   "outputs": [
    {
     "name": "stdout",
     "output_type": "stream",
     "text": [
      "Accuracy of plane : 71 %\n",
      "Accuracy of   car : 84 %\n",
      "Accuracy of  bird : 51 %\n",
      "Accuracy of   cat : 49 %\n",
      "Accuracy of  deer : 57 %\n",
      "Accuracy of   dog : 57 %\n",
      "Accuracy of  frog : 81 %\n",
      "Accuracy of horse : 71 %\n",
      "Accuracy of  ship : 74 %\n",
      "Accuracy of truck : 73 %\n"
     ]
    }
   ],
   "source": [
    "# 初始化\n",
    "class_correct = list(0. for i in range(10))\n",
    "class_total = list(0. for i in range(10))\n",
    "\n",
    "with torch.no_grad():\n",
    "    for data in testloader:\n",
    "        images, labels = data\n",
    "        images, labels = images.to(device), labels.to(device)\n",
    "        outputs = net(images)\n",
    "        _, predicted = torch.max(outputs, 1)\n",
    "        c = (predicted == labels).squeeze()\n",
    "        for i in range(4):\n",
    "            label = labels[i]\n",
    "            class_correct[label] += c[i].item()\n",
    "            class_total[label] += 1\n",
    "\n",
    "for i in range(10):\n",
    "    print('Accuracy of %5s : %2d %%' % (\n",
    "        classes[i], 100 * class_correct[i] / class_total[i]))"
   ]
  },
  {
   "cell_type": "markdown",
   "metadata": {},
   "source": [
    "# 5 采用全局平均池化"
   ]
  },
  {
   "cell_type": "markdown",
   "metadata": {},
   "source": [
    "将CNN的池化层后的全连接层换成全局池化"
   ]
  },
  {
   "cell_type": "markdown",
   "metadata": {},
   "source": [
    "（1）定义网络"
   ]
  },
  {
   "cell_type": "code",
   "execution_count": 18,
   "metadata": {},
   "outputs": [],
   "source": [
    "import torch.nn as nn\n",
    "import torch.nn.functional as F\n",
    "device = torch.device(\"cuda:0\" if torch.cuda.is_available() else \"cpu\")\n",
    "\n",
    "class Net(nn.Module):\n",
    "    def __init__(self):\n",
    "        super(Net, self).__init__()\n",
    "        self.conv1 = nn.Conv2d(3, 16, 5)\n",
    "        self.pool1 = nn.MaxPool2d(2, 2)\n",
    "        self.conv2 = nn.Conv2d(16, 36, 5)\n",
    "        #self.fc1 = nn.Linear(16 * 5 * 5, 120)\n",
    "        self.pool2 = nn.MaxPool2d(2, 2)\n",
    "        #使用全局平均池化层\n",
    "        self.aap=nn.AdaptiveAvgPool2d(1)\n",
    "        self.fc3 = nn.Linear(36, 10)\n",
    "\n",
    "    def forward(self, x):\n",
    "        x = self.pool1(F.relu(self.conv1(x)))\n",
    "        x = self.pool2(F.relu(self.conv2(x)))\n",
    "        x = self.aap(x)\n",
    "        x = x.view(x.shape[0], -1)\n",
    "        x = self.fc3(x)\n",
    "        return x\n",
    "\n",
    "net = Net()\n",
    "net=net.to(device)"
   ]
  },
  {
   "cell_type": "code",
   "execution_count": 19,
   "metadata": {},
   "outputs": [
    {
     "name": "stdout",
     "output_type": "stream",
     "text": [
      "net_gvp have 16022 paramerters in total\n"
     ]
    }
   ],
   "source": [
    "print(\"net_gvp have {} paramerters in total\".format(sum(x.numel() for x in net.parameters())))"
   ]
  },
  {
   "cell_type": "markdown",
   "metadata": {},
   "source": [
    "（2）设置超参数"
   ]
  },
  {
   "cell_type": "code",
   "execution_count": 20,
   "metadata": {},
   "outputs": [],
   "source": [
    "import torch.optim as optim\n",
    "LR=0.001\n",
    "\n",
    "criterion = nn.CrossEntropyLoss()\n",
    "optimizer = optim.SGD(net.parameters(), lr=0.001, momentum=0.9)"
   ]
  },
  {
   "cell_type": "markdown",
   "metadata": {},
   "source": [
    "（3）训练模型"
   ]
  },
  {
   "cell_type": "code",
   "execution_count": 21,
   "metadata": {
    "scrolled": true
   },
   "outputs": [
    {
     "name": "stdout",
     "output_type": "stream",
     "text": [
      "[1,  2000] loss: 2.121\n",
      "[1,  4000] loss: 1.906\n",
      "[1,  6000] loss: 1.794\n",
      "[1,  8000] loss: 1.697\n",
      "[1, 10000] loss: 1.633\n",
      "[1, 12000] loss: 1.595\n",
      "[2,  2000] loss: 1.543\n",
      "[2,  4000] loss: 1.494\n",
      "[2,  6000] loss: 1.487\n",
      "[2,  8000] loss: 1.452\n",
      "[2, 10000] loss: 1.413\n",
      "[2, 12000] loss: 1.385\n",
      "[3,  2000] loss: 1.361\n",
      "[3,  4000] loss: 1.335\n",
      "[3,  6000] loss: 1.322\n",
      "[3,  8000] loss: 1.316\n",
      "[3, 10000] loss: 1.295\n",
      "[3, 12000] loss: 1.282\n",
      "[4,  2000] loss: 1.246\n",
      "[4,  4000] loss: 1.254\n",
      "[4,  6000] loss: 1.236\n",
      "[4,  8000] loss: 1.245\n",
      "[4, 10000] loss: 1.227\n",
      "[4, 12000] loss: 1.205\n",
      "[5,  2000] loss: 1.186\n",
      "[5,  4000] loss: 1.182\n",
      "[5,  6000] loss: 1.172\n",
      "[5,  8000] loss: 1.188\n",
      "[5, 10000] loss: 1.151\n",
      "[5, 12000] loss: 1.139\n",
      "[6,  2000] loss: 1.131\n",
      "[6,  4000] loss: 1.121\n",
      "[6,  6000] loss: 1.114\n",
      "[6,  8000] loss: 1.121\n",
      "[6, 10000] loss: 1.128\n",
      "[6, 12000] loss: 1.103\n",
      "[7,  2000] loss: 1.065\n",
      "[7,  4000] loss: 1.074\n",
      "[7,  6000] loss: 1.077\n",
      "[7,  8000] loss: 1.093\n",
      "[7, 10000] loss: 1.080\n",
      "[7, 12000] loss: 1.099\n",
      "[8,  2000] loss: 1.037\n",
      "[8,  4000] loss: 1.036\n",
      "[8,  6000] loss: 1.060\n",
      "[8,  8000] loss: 1.037\n",
      "[8, 10000] loss: 1.053\n",
      "[8, 12000] loss: 1.036\n",
      "[9,  2000] loss: 1.022\n",
      "[9,  4000] loss: 1.019\n",
      "[9,  6000] loss: 1.019\n",
      "[9,  8000] loss: 1.006\n",
      "[9, 10000] loss: 1.016\n",
      "[9, 12000] loss: 1.022\n",
      "[10,  2000] loss: 0.992\n",
      "[10,  4000] loss: 0.996\n",
      "[10,  6000] loss: 1.000\n",
      "[10,  8000] loss: 0.990\n",
      "[10, 10000] loss: 0.978\n",
      "[10, 12000] loss: 1.007\n",
      "Finished Training\n"
     ]
    }
   ],
   "source": [
    "for epoch in range(10):  \n",
    "\n",
    "    running_loss = 0.0\n",
    "    for i, data in enumerate(trainloader, 0):\n",
    "        # 获取训练数据\n",
    "        inputs, labels = data\n",
    "        inputs, labels = inputs.to(device), labels.to(device)\n",
    "\n",
    "        # 权重参数梯度清零\n",
    "        optimizer.zero_grad()\n",
    "\n",
    "        # 正向及反向传播\n",
    "        outputs = net(inputs)\n",
    "        loss = criterion(outputs, labels)\n",
    "        loss.backward()\n",
    "        optimizer.step()\n",
    "\n",
    "        # 显示损失值\n",
    "        running_loss += loss.item()\n",
    "        if i % 2000 == 1999:    # print every 2000 mini-batches\n",
    "            print('[%d, %5d] loss: %.3f' %(epoch + 1, i + 1, running_loss / 2000))\n",
    "            running_loss = 0.0\n",
    "\n",
    "print('Finished Training')"
   ]
  },
  {
   "cell_type": "markdown",
   "metadata": {},
   "source": [
    "（4)测试模型"
   ]
  },
  {
   "cell_type": "code",
   "execution_count": 22,
   "metadata": {
    "scrolled": true
   },
   "outputs": [
    {
     "name": "stdout",
     "output_type": "stream",
     "text": [
      "Accuracy of the network on the 10000 test images: 64 %\n"
     ]
    }
   ],
   "source": [
    "# 查看准确率\n",
    "correct = 0\n",
    "total = 0\n",
    "with torch.no_grad():\n",
    "    for data in testloader:\n",
    "        images, labels = data\n",
    "        images, labels = images.to(device), labels.to(device)\n",
    "        outputs = net(images)\n",
    "        _, predicted = torch.max(outputs.data, 1)\n",
    "        total += labels.size(0)\n",
    "        correct += (predicted == labels).sum().item()\n",
    "\n",
    "print('Accuracy of the network on the 10000 test images: %d %%' % (\n",
    "    100 * correct / total))"
   ]
  },
  {
   "cell_type": "code",
   "execution_count": 23,
   "metadata": {},
   "outputs": [
    {
     "name": "stdout",
     "output_type": "stream",
     "text": [
      "Accuracy of plane : 71 %\n",
      "Accuracy of   car : 82 %\n",
      "Accuracy of  bird : 49 %\n",
      "Accuracy of   cat : 32 %\n",
      "Accuracy of  deer : 36 %\n",
      "Accuracy of   dog : 64 %\n",
      "Accuracy of  frog : 72 %\n",
      "Accuracy of horse : 79 %\n",
      "Accuracy of  ship : 78 %\n",
      "Accuracy of truck : 75 %\n"
     ]
    }
   ],
   "source": [
    "# 初始化\n",
    "class_correct = list(0. for i in range(10))\n",
    "class_total = list(0. for i in range(10))\n",
    "\n",
    "with torch.no_grad():\n",
    "    for data in testloader:\n",
    "        images, labels = data\n",
    "        images, labels = images.to(device), labels.to(device)\n",
    "        outputs = net(images)\n",
    "        _, predicted = torch.max(outputs, 1)\n",
    "        c = (predicted == labels).squeeze()\n",
    "        for i in range(4):\n",
    "            label = labels[i]\n",
    "            class_correct[label] += c[i].item()\n",
    "            class_total[label] += 1\n",
    "\n",
    "for i in range(10):\n",
    "    print('Accuracy of %5s : %2d %%' % (\n",
    "        classes[i], 100 * class_correct[i] / class_total[i]))"
   ]
  },
  {
   "cell_type": "markdown",
   "metadata": {
    "collapsed": true
   },
   "source": [
    "# 6 像keras一样显示各层参数"
   ]
  },
  {
   "cell_type": "code",
   "execution_count": 24,
   "metadata": {},
   "outputs": [],
   "source": [
    "import collections\n",
    "import torch\n",
    "\n",
    "def paras_summary(input_size, model):\n",
    "        def register_hook(module):\n",
    "            def hook(module, input, output):\n",
    "                class_name = str(module.__class__).split('.')[-1].split(\"'\")[0]\n",
    "                module_idx = len(summary)\n",
    "\n",
    "                m_key = '%s-%i' % (class_name, module_idx+1)\n",
    "                summary[m_key] = collections.OrderedDict()\n",
    "                summary[m_key]['input_shape'] = list(input[0].size())\n",
    "                summary[m_key]['input_shape'][0] = -1\n",
    "                summary[m_key]['output_shape'] = list(output.size())\n",
    "                summary[m_key]['output_shape'][0] = -1\n",
    "\n",
    "                params = 0\n",
    "                if hasattr(module, 'weight'):\n",
    "                    params += torch.prod(torch.LongTensor(list(module.weight.size())))\n",
    "                    if module.weight.requires_grad:\n",
    "                        summary[m_key]['trainable'] = True\n",
    "                    else:\n",
    "                        summary[m_key]['trainable'] = False\n",
    "                if hasattr(module, 'bias'):\n",
    "                    params +=  torch.prod(torch.LongTensor(list(module.bias.size())))\n",
    "                summary[m_key]['nb_params'] = params\n",
    "                \n",
    "            if not isinstance(module, nn.Sequential) and \\\n",
    "               not isinstance(module, nn.ModuleList) and \\\n",
    "               not (module == model):\n",
    "                hooks.append(module.register_forward_hook(hook))\n",
    "        \n",
    "        # check if there are multiple inputs to the network\n",
    "        if isinstance(input_size[0], (list, tuple)):\n",
    "            x = [torch.rand(1,*in_size) for in_size in input_size]\n",
    "        else:\n",
    "            x = torch.rand(1,*input_size)\n",
    "\n",
    "        # create properties\n",
    "        summary = collections.OrderedDict()\n",
    "        hooks = []\n",
    "        # register hook\n",
    "        model.apply(register_hook)\n",
    "        # make a forward pass\n",
    "        model(x)\n",
    "        # remove these hooks\n",
    "        for h in hooks:\n",
    "            h.remove()\n",
    "\n",
    "        return summary"
   ]
  },
  {
   "cell_type": "code",
   "execution_count": 25,
   "metadata": {},
   "outputs": [
    {
     "data": {
      "text/plain": [
       "OrderedDict([('Conv2d-1',\n",
       "              OrderedDict([('input_shape', [-1, 3, 32, 32]),\n",
       "                           ('output_shape', [-1, 16, 28, 28]),\n",
       "                           ('trainable', True),\n",
       "                           ('nb_params', tensor(1216))])),\n",
       "             ('MaxPool2d-2',\n",
       "              OrderedDict([('input_shape', [-1, 16, 28, 28]),\n",
       "                           ('output_shape', [-1, 16, 14, 14]),\n",
       "                           ('nb_params', 0)])),\n",
       "             ('Conv2d-3',\n",
       "              OrderedDict([('input_shape', [-1, 16, 14, 14]),\n",
       "                           ('output_shape', [-1, 36, 12, 12]),\n",
       "                           ('trainable', True),\n",
       "                           ('nb_params', tensor(5220))])),\n",
       "             ('MaxPool2d-4',\n",
       "              OrderedDict([('input_shape', [-1, 36, 12, 12]),\n",
       "                           ('output_shape', [-1, 36, 6, 6]),\n",
       "                           ('nb_params', 0)])),\n",
       "             ('Linear-5',\n",
       "              OrderedDict([('input_shape', [-1, 1296]),\n",
       "                           ('output_shape', [-1, 128]),\n",
       "                           ('trainable', True),\n",
       "                           ('nb_params', tensor(166016))])),\n",
       "             ('Linear-6',\n",
       "              OrderedDict([('input_shape', [-1, 128]),\n",
       "                           ('output_shape', [-1, 10]),\n",
       "                           ('trainable', True),\n",
       "                           ('nb_params', tensor(1290))]))])"
      ]
     },
     "execution_count": 25,
     "metadata": {},
     "output_type": "execute_result"
    }
   ],
   "source": [
    "net = CNNNet()\n",
    "input_size=[3,32,32]\n",
    "paras_summary(input_size,net)"
   ]
  }
 ],
 "metadata": {
  "kernelspec": {
   "display_name": "Python 3",
   "language": "python",
   "name": "python3"
  },
  "language_info": {
   "codemirror_mode": {
    "name": "ipython",
    "version": 3
   },
   "file_extension": ".py",
   "mimetype": "text/x-python",
   "name": "python",
   "nbconvert_exporter": "python",
   "pygments_lexer": "ipython3",
   "version": "3.6.2"
  }
 },
 "nbformat": 4,
 "nbformat_minor": 2
}
